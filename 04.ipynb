{
 "cells": [
  {
   "cell_type": "code",
   "execution_count": 45,
   "id": "0064dfe8",
   "metadata": {},
   "outputs": [],
   "source": [
    "import pandas as pd\n",
    "import numpy as np\n",
    "import matplotlib.pyplot as plt\n",
    "import math\n",
    "from tensorflow.keras import utils\n",
    "from sklearn import ensemble\n",
    "from tensorflow.keras.models import load_model\n",
    "import pickle\n",
    "from tensorflow.keras.optimizers import Adam"
   ]
  },
  {
   "cell_type": "code",
   "execution_count": 14,
   "id": "914b3689",
   "metadata": {},
   "outputs": [],
   "source": [
    "# Baze podataka sa 12 stanica u Pekingu bez nedostajucih vrednosti:\n",
    "\n",
    "filenames =[\"PRSA_Data_Aotizhongxin_20130301-20170228.csv\",\"PRSA_Data_Changping_20130301-20170228.csv\",\"PRSA_Data_Dingling_20130301-20170228.csv\",\n",
    "            \"PRSA_Data_Dongsi_20130301-20170228.csv\",\"PRSA_Data_Guanyuan_20130301-20170228.csv\",\n",
    "            \"PRSA_Data_Gucheng_20130301-20170228.csv\",\"PRSA_Data_Huairou_20130301-20170228.csv\",\"PRSA_Data_Nongzhanguan_20130301-20170228.csv\",\n",
    "            \"PRSA_Data_Shunyi_20130301-20170228.csv\",\"PRSA_Data_Tiantan_20130301-20170228.csv\",\"PRSA_Data_Wanliu_20130301-20170228.csv\",\"PRSA_Data_Wanshouxigong_20130301-20170228.csv\"]\n",
    "dataframes=[]\n",
    "for f in filenames:\n",
    "    dataframes.append(pd.read_csv(\"data_without_na/\"+f,index_col=0))\n",
    "df_Dingling = dataframes[2].copy()\n",
    "df_Huairou = dataframes[6].copy()\n",
    "df_Aotizhongxin = dataframes[0].copy()\n",
    "df_Changping = dataframes[1].copy()\n",
    "df_Dongsi = dataframes[3].copy()\n",
    "df_Guanyuan = dataframes[4].copy()\n",
    "df_Nongzhanguan =dataframes[7].copy()\n",
    "df_Shunyi=dataframes[8].copy()\n",
    "df_Tiantan=dataframes[9].copy()\n",
    "df_Wanliu=dataframes[10].copy()\n",
    "df_Wanshouxigong =dataframes[11].copy()\n",
    "df_Gucheng =dataframes[5].copy()"
   ]
  },
  {
   "cell_type": "code",
   "execution_count": 15,
   "id": "cea1ad81",
   "metadata": {},
   "outputs": [],
   "source": [
    "# Stanice:\n",
    "stations=[]\n",
    "for data in dataframes:\n",
    "    stations.append(data['station'].iloc[0])"
   ]
  },
  {
   "cell_type": "code",
   "execution_count": 16,
   "id": "b2616abe",
   "metadata": {},
   "outputs": [
    {
     "name": "stdout",
     "output_type": "stream",
     "text": [
      "Aotizhongxin:0\n",
      "Changping:0\n",
      "Dingling:0\n",
      "Dongsi:0\n",
      "Guanyuan:0\n",
      "Gucheng:0\n",
      "Huairou:0\n",
      "Nongzhanguan:0\n",
      "Shunyi:0\n",
      "Tiantan:0\n",
      "Wanliu:0\n",
      "Wanshouxigong:0\n"
     ]
    }
   ],
   "source": [
    "# Provera nedostajucih vrednosti:\n",
    "\n",
    "for data in dataframes:\n",
    "    print(\"{}:{}\".format(data['station'].iloc[0],np.sum(np.sum(data.isna()))))"
   ]
  },
  {
   "cell_type": "code",
   "execution_count": 17,
   "id": "cace3a3d",
   "metadata": {},
   "outputs": [],
   "source": [
    "# 1. SLUCAJ Primena LSTM-a za predikciju koncentracije PM2.5 u vazduhu naredni sat!\n",
    "# NE KORISTE SE METEROLOSKI PODACI VEC SAMO KONCENTRACIJE PM2.5 U PRETHODNIM SATIMA!"
   ]
  },
  {
   "cell_type": "code",
   "execution_count": 18,
   "id": "abcd8397",
   "metadata": {},
   "outputs": [
    {
     "data": {
      "text/html": [
       "<div>\n",
       "<style scoped>\n",
       "    .dataframe tbody tr th:only-of-type {\n",
       "        vertical-align: middle;\n",
       "    }\n",
       "\n",
       "    .dataframe tbody tr th {\n",
       "        vertical-align: top;\n",
       "    }\n",
       "\n",
       "    .dataframe thead th {\n",
       "        text-align: right;\n",
       "    }\n",
       "</style>\n",
       "<table border=\"1\" class=\"dataframe\">\n",
       "  <thead>\n",
       "    <tr style=\"text-align: right;\">\n",
       "      <th></th>\n",
       "      <th>year</th>\n",
       "      <th>month</th>\n",
       "      <th>day</th>\n",
       "      <th>hour</th>\n",
       "      <th>PM2.5</th>\n",
       "      <th>PM10</th>\n",
       "      <th>SO2</th>\n",
       "      <th>NO2</th>\n",
       "      <th>CO</th>\n",
       "      <th>O3</th>\n",
       "      <th>TEMP</th>\n",
       "      <th>PRES</th>\n",
       "      <th>DEWP</th>\n",
       "      <th>RAIN</th>\n",
       "      <th>wd</th>\n",
       "      <th>WSPM</th>\n",
       "      <th>station</th>\n",
       "      <th>heating</th>\n",
       "    </tr>\n",
       "  </thead>\n",
       "  <tbody>\n",
       "    <tr>\n",
       "      <th>2013-03-01 00:00:00</th>\n",
       "      <td>2013</td>\n",
       "      <td>3</td>\n",
       "      <td>1</td>\n",
       "      <td>0</td>\n",
       "      <td>4.0</td>\n",
       "      <td>4.0</td>\n",
       "      <td>4.0</td>\n",
       "      <td>7.0</td>\n",
       "      <td>300.0</td>\n",
       "      <td>77.0</td>\n",
       "      <td>-0.7</td>\n",
       "      <td>1023.0</td>\n",
       "      <td>-18.8</td>\n",
       "      <td>0.0</td>\n",
       "      <td>0</td>\n",
       "      <td>4.4</td>\n",
       "      <td>Aotizhongxin</td>\n",
       "      <td>0</td>\n",
       "    </tr>\n",
       "    <tr>\n",
       "      <th>2013-03-01 01:00:00</th>\n",
       "      <td>2013</td>\n",
       "      <td>3</td>\n",
       "      <td>1</td>\n",
       "      <td>1</td>\n",
       "      <td>8.0</td>\n",
       "      <td>8.0</td>\n",
       "      <td>4.0</td>\n",
       "      <td>7.0</td>\n",
       "      <td>300.0</td>\n",
       "      <td>77.0</td>\n",
       "      <td>-1.1</td>\n",
       "      <td>1023.2</td>\n",
       "      <td>-18.2</td>\n",
       "      <td>0.0</td>\n",
       "      <td>0</td>\n",
       "      <td>4.7</td>\n",
       "      <td>Aotizhongxin</td>\n",
       "      <td>0</td>\n",
       "    </tr>\n",
       "    <tr>\n",
       "      <th>2013-03-01 02:00:00</th>\n",
       "      <td>2013</td>\n",
       "      <td>3</td>\n",
       "      <td>1</td>\n",
       "      <td>2</td>\n",
       "      <td>7.0</td>\n",
       "      <td>7.0</td>\n",
       "      <td>5.0</td>\n",
       "      <td>10.0</td>\n",
       "      <td>300.0</td>\n",
       "      <td>73.0</td>\n",
       "      <td>-1.1</td>\n",
       "      <td>1023.5</td>\n",
       "      <td>-18.2</td>\n",
       "      <td>0.0</td>\n",
       "      <td>0</td>\n",
       "      <td>5.6</td>\n",
       "      <td>Aotizhongxin</td>\n",
       "      <td>0</td>\n",
       "    </tr>\n",
       "    <tr>\n",
       "      <th>2013-03-01 03:00:00</th>\n",
       "      <td>2013</td>\n",
       "      <td>3</td>\n",
       "      <td>1</td>\n",
       "      <td>3</td>\n",
       "      <td>6.0</td>\n",
       "      <td>6.0</td>\n",
       "      <td>11.0</td>\n",
       "      <td>11.0</td>\n",
       "      <td>300.0</td>\n",
       "      <td>72.0</td>\n",
       "      <td>-1.4</td>\n",
       "      <td>1024.5</td>\n",
       "      <td>-19.4</td>\n",
       "      <td>0.0</td>\n",
       "      <td>0</td>\n",
       "      <td>3.1</td>\n",
       "      <td>Aotizhongxin</td>\n",
       "      <td>0</td>\n",
       "    </tr>\n",
       "    <tr>\n",
       "      <th>2013-03-01 04:00:00</th>\n",
       "      <td>2013</td>\n",
       "      <td>3</td>\n",
       "      <td>1</td>\n",
       "      <td>4</td>\n",
       "      <td>3.0</td>\n",
       "      <td>3.0</td>\n",
       "      <td>12.0</td>\n",
       "      <td>12.0</td>\n",
       "      <td>300.0</td>\n",
       "      <td>72.0</td>\n",
       "      <td>-2.0</td>\n",
       "      <td>1025.2</td>\n",
       "      <td>-19.5</td>\n",
       "      <td>0.0</td>\n",
       "      <td>0</td>\n",
       "      <td>2.0</td>\n",
       "      <td>Aotizhongxin</td>\n",
       "      <td>0</td>\n",
       "    </tr>\n",
       "  </tbody>\n",
       "</table>\n",
       "</div>"
      ],
      "text/plain": [
       "                     year  month  day  hour  PM2.5  PM10   SO2   NO2     CO  \\\n",
       "2013-03-01 00:00:00  2013      3    1     0    4.0   4.0   4.0   7.0  300.0   \n",
       "2013-03-01 01:00:00  2013      3    1     1    8.0   8.0   4.0   7.0  300.0   \n",
       "2013-03-01 02:00:00  2013      3    1     2    7.0   7.0   5.0  10.0  300.0   \n",
       "2013-03-01 03:00:00  2013      3    1     3    6.0   6.0  11.0  11.0  300.0   \n",
       "2013-03-01 04:00:00  2013      3    1     4    3.0   3.0  12.0  12.0  300.0   \n",
       "\n",
       "                       O3  TEMP    PRES  DEWP  RAIN  wd  WSPM       station  \\\n",
       "2013-03-01 00:00:00  77.0  -0.7  1023.0 -18.8   0.0   0   4.4  Aotizhongxin   \n",
       "2013-03-01 01:00:00  77.0  -1.1  1023.2 -18.2   0.0   0   4.7  Aotizhongxin   \n",
       "2013-03-01 02:00:00  73.0  -1.1  1023.5 -18.2   0.0   0   5.6  Aotizhongxin   \n",
       "2013-03-01 03:00:00  72.0  -1.4  1024.5 -19.4   0.0   0   3.1  Aotizhongxin   \n",
       "2013-03-01 04:00:00  72.0  -2.0  1025.2 -19.5   0.0   0   2.0  Aotizhongxin   \n",
       "\n",
       "                     heating  \n",
       "2013-03-01 00:00:00        0  \n",
       "2013-03-01 01:00:00        0  \n",
       "2013-03-01 02:00:00        0  \n",
       "2013-03-01 03:00:00        0  \n",
       "2013-03-01 04:00:00        0  "
      ]
     },
     "execution_count": 18,
     "metadata": {},
     "output_type": "execute_result"
    }
   ],
   "source": [
    "# Primenicemo na jednu stanicu za ostale je isto!\n",
    "dataframes[0].head()"
   ]
  },
  {
   "cell_type": "code",
   "execution_count": 19,
   "id": "888fa097",
   "metadata": {},
   "outputs": [],
   "source": [
    "# Napomena: Uzecemo jednu stanicu sa kojom radimo, za ostale je isto!\n",
    "df=pd.DataFrame(dataframes[0]['PM2.5'])"
   ]
  },
  {
   "cell_type": "code",
   "execution_count": 20,
   "id": "4a4fb613",
   "metadata": {},
   "outputs": [
    {
     "data": {
      "image/png": "[encoded data removed]",
      "text/plain": [
       "<Figure size 432x288 with 1 Axes>"
      ]
     },
     "metadata": {
      "needs_background": "light"
     },
     "output_type": "display_data"
    }
   ],
   "source": [
    "# Box plot:\n",
    "\n",
    "df.boxplot()\n",
    "plt.show()"
   ]
  },
  {
   "cell_type": "code",
   "execution_count": 21,
   "id": "c8135f81",
   "metadata": {},
   "outputs": [],
   "source": [
    "#Standardizacija cele baze jer i y mora biti standardizovano jer cemo raditi lagovane vrednosti!\n",
    "\n",
    "from sklearn.preprocessing import MinMaxScaler\n",
    "values = df.values\n",
    "scaler = MinMaxScaler(feature_range=(0, 1))\n",
    "scaled_dataset = scaler.fit_transform(values)"
   ]
  },
  {
   "cell_type": "code",
   "execution_count": 22,
   "id": "2b7954b1",
   "metadata": {},
   "outputs": [],
   "source": [
    "with open('models/without_metero.scaler.pickle', 'wb') as model_file:\n",
    "    pickle.dump(scaler, model_file)"
   ]
  },
  {
   "cell_type": "code",
   "execution_count": 23,
   "id": "6370b0ef",
   "metadata": {},
   "outputs": [],
   "source": [
    "# Siftovanje vrednosti:\n",
    "\n",
    "def s_to_super(train,window_size):\n",
    "  X = []\n",
    "  Y = []\n",
    "  for i in range(window_size, len(train)):\n",
    "    X.append(train[i-window_size:i,:])\n",
    "    Y.append(train[i,0:1])\n",
    "    \n",
    "  return X,Y"
   ]
  },
  {
   "cell_type": "code",
   "execution_count": 24,
   "id": "2a5c730f",
   "metadata": {},
   "outputs": [
    {
     "data": {
      "text/plain": [
       "((35060, 4, 1), (35060, 1))"
      ]
     },
     "execution_count": 24,
     "metadata": {},
     "output_type": "execute_result"
    }
   ],
   "source": [
    "X, Y = s_to_super(scaled_dataset,4)\n",
    "X=np.array(X)\n",
    "Y=np.array(Y)\n",
    "X.shape,Y.shape"
   ]
  },
  {
   "cell_type": "code",
   "execution_count": 25,
   "id": "ce865138",
   "metadata": {},
   "outputs": [
    {
     "data": {
      "text/plain": [
       "((17540, 4, 1), (8760, 4, 1), (8760, 4, 1), (8760, 1), (17540, 1), (8760, 1))"
      ]
     },
     "execution_count": 25,
     "metadata": {},
     "output_type": "execute_result"
    }
   ],
   "source": [
    "# Podela na trening i test skup i validacioni skup: \n",
    "\n",
    "n_train= 24*365 # izaberimo godinu dana za test skup\n",
    "X_train, X_val, X_test = X[n_train+24*365:,],X[n_train:n_train+24*365,] , X[:n_train,]\n",
    "Y_train, Y_val, Y_test = Y[n_train+24*365:,],Y[n_train:n_train+24*365,] , Y[:n_train,]\n",
    "\n",
    "X_train.shape,X_test.shape,X_val.shape,Y_val.shape,Y_train.shape,Y_test.shape"
   ]
  },
  {
   "cell_type": "code",
   "execution_count": 26,
   "id": "7c286429",
   "metadata": {},
   "outputs": [],
   "source": [
    "n_train=X_train.shape[0]\n",
    "n_test=X_test.shape[0]\n",
    "n_val=X_val.shape[0]"
   ]
  },
  {
   "cell_type": "code",
   "execution_count": 28,
   "id": "8e47b309",
   "metadata": {},
   "outputs": [
    {
     "data": {
      "image/png": "[encoded data removed]",
      "text/plain": [
       "<Figure size 432x288 with 1 Axes>"
      ]
     },
     "metadata": {
      "needs_background": "light"
     },
     "output_type": "display_data"
    }
   ],
   "source": [
    "\n",
    "fig, ax = plt.subplots()\n",
    "bar_trening,bar_val, bar_test = plt.bar([0, 1,2], (n_train,n_val, n_test))\n",
    "\n",
    "bar_trening.set_facecolor('r')\n",
    "bar_test.set_facecolor('b')\n",
    "bar_val.set_facecolor('g')\n",
    "\n",
    "ax.set_xticks([0, 1,2])\n",
    "ax.set_xticklabels(['Trening','Validacija', 'Test'])\n",
    "\n",
    "ax.set_ylabel('Udeo')\n",
    "\n",
    "ax.set_title('Podela skupa podataka na trening i test');\n"
   ]
  },
  {
   "cell_type": "code",
   "execution_count": 47,
   "id": "a0a4f02a",
   "metadata": {},
   "outputs": [],
   "source": [
    "# Kreiramo LSTM MODEL\n",
    "\n",
    "from tensorflow.keras.models import Sequential\n",
    "from tensorflow.keras.layers import Dense, Dropout,LSTM,Input\n",
    "model = Sequential()\n",
    "\n",
    "model.add(Input(shape=(X_train.shape[1], X_train.shape[2])))\n",
    "model.add(LSTM(units = 50, return_sequences = True,activation='relu'))\n",
    "model.add(Dropout(0.2))\n",
    "\n",
    "model.add(LSTM(units = 50, return_sequences = True,activation='relu'))\n",
    "model.add(Dropout(0.2))\n",
    "\n",
    "model.add(LSTM(units = 50))\n",
    "model.add(Dropout(0.2))\n",
    "\n",
    "model.add(Dense(units = 1))\n",
    "\n",
    "model.compile(optimizer = Adam(learning_rate=0.001), loss = 'mse',metrics=['mae'])"
   ]
  },
  {
   "cell_type": "code",
   "execution_count": 48,
   "id": "ebff21fe",
   "metadata": {},
   "outputs": [
    {
     "name": "stdout",
     "output_type": "stream",
     "text": [
      "Epoch 1/20\n",
      "549/549 [==============================] - 4s 7ms/step - loss: 0.0025 - mae: 0.0304 - val_loss: 0.0013 - val_mae: 0.0228\n",
      "Epoch 2/20\n",
      "549/549 [==============================] - 3s 5ms/step - loss: 0.0014 - mae: 0.0223 - val_loss: 9.2054e-04 - val_mae: 0.0202\n",
      "Epoch 3/20\n",
      "549/549 [==============================] - 3s 5ms/step - loss: 0.0011 - mae: 0.0197 - val_loss: 6.2342e-04 - val_mae: 0.0149\n",
      "Epoch 4/20\n",
      "549/549 [==============================] - 3s 5ms/step - loss: 0.0010 - mae: 0.0184 - val_loss: 5.7566e-04 - val_mae: 0.0141\n",
      "Epoch 5/20\n",
      "549/549 [==============================] - 3s 5ms/step - loss: 9.4188e-04 - mae: 0.0182 - val_loss: 5.8203e-04 - val_mae: 0.0137\n",
      "Epoch 6/20\n",
      "549/549 [==============================] - 3s 6ms/step - loss: 8.7884e-04 - mae: 0.0176 - val_loss: 5.7436e-04 - val_mae: 0.0143\n",
      "Epoch 7/20\n",
      "549/549 [==============================] - 3s 5ms/step - loss: 8.4462e-04 - mae: 0.0173 - val_loss: 4.9907e-04 - val_mae: 0.0129\n",
      "Epoch 8/20\n",
      "549/549 [==============================] - 3s 5ms/step - loss: 8.1180e-04 - mae: 0.0169 - val_loss: 5.0920e-04 - val_mae: 0.0132\n",
      "Epoch 9/20\n",
      "549/549 [==============================] - 3s 5ms/step - loss: 8.2327e-04 - mae: 0.0172 - val_loss: 6.3231e-04 - val_mae: 0.0161\n",
      "Epoch 10/20\n",
      "549/549 [==============================] - 3s 5ms/step - loss: 7.9854e-04 - mae: 0.0169 - val_loss: 5.0219e-04 - val_mae: 0.0131\n",
      "Epoch 11/20\n",
      "549/549 [==============================] - 3s 5ms/step - loss: 7.9233e-04 - mae: 0.0168 - val_loss: 5.0487e-04 - val_mae: 0.0132\n",
      "Epoch 12/20\n",
      "549/549 [==============================] - 3s 5ms/step - loss: 7.3439e-04 - mae: 0.0164 - val_loss: 5.0335e-04 - val_mae: 0.0130\n",
      "Epoch 13/20\n",
      "549/549 [==============================] - 3s 5ms/step - loss: 7.5331e-04 - mae: 0.0163 - val_loss: 4.9403e-04 - val_mae: 0.0132\n",
      "Epoch 14/20\n",
      "549/549 [==============================] - 3s 5ms/step - loss: 7.4676e-04 - mae: 0.0164 - val_loss: 5.1415e-04 - val_mae: 0.0133\n",
      "Epoch 15/20\n",
      "549/549 [==============================] - 3s 6ms/step - loss: 7.2990e-04 - mae: 0.0161 - val_loss: 4.9048e-04 - val_mae: 0.0132\n",
      "Epoch 16/20\n",
      "549/549 [==============================] - 3s 6ms/step - loss: 7.1952e-04 - mae: 0.0160 - val_loss: 5.2840e-04 - val_mae: 0.0145\n",
      "Epoch 17/20\n",
      "549/549 [==============================] - 3s 6ms/step - loss: 7.3544e-04 - mae: 0.0163 - val_loss: 5.0699e-04 - val_mae: 0.0133\n",
      "Epoch 18/20\n",
      "549/549 [==============================] - 3s 5ms/step - loss: 7.2065e-04 - mae: 0.0159 - val_loss: 5.2637e-04 - val_mae: 0.0136\n",
      "Epoch 19/20\n",
      "549/549 [==============================] - 3s 5ms/step - loss: 7.3819e-04 - mae: 0.0160 - val_loss: 5.9349e-04 - val_mae: 0.0152\n",
      "Epoch 20/20\n",
      "549/549 [==============================] - 3s 5ms/step - loss: 7.1784e-04 - mae: 0.0159 - val_loss: 5.3720e-04 - val_mae: 0.0149\n"
     ]
    }
   ],
   "source": [
    "history=model.fit(X_train, Y_train, epochs = 20, batch_size = 32,verbose=1,validation_data=(X_val,Y_val))"
   ]
  },
  {
   "cell_type": "code",
   "execution_count": 49,
   "id": "c83c37b6",
   "metadata": {},
   "outputs": [],
   "source": [
    "# Sacuvajmo model\n",
    "model.save('models/without_metero.h5')"
   ]
  },
  {
   "cell_type": "code",
   "execution_count": 50,
   "id": "12a6b705",
   "metadata": {},
   "outputs": [
    {
     "data": {
      "image/png": "[encoded data removed]",
      "text/plain": [
       "<Figure size 432x288 with 1 Axes>"
      ]
     },
     "metadata": {
      "needs_background": "light"
     },
     "output_type": "display_data"
    }
   ],
   "source": [
    "# Pogledajmo sta se desava sa loss funkcijom\n",
    "\n",
    "plt.plot(history.epoch,history.history['loss'],color='red')\n",
    "plt.plot(history.epoch,history.history['val_loss'],color='green')\n",
    "plt.show()"
   ]
  },
  {
   "cell_type": "code",
   "execution_count": 52,
   "id": "34dfeba7",
   "metadata": {},
   "outputs": [
    {
     "data": {
      "text/plain": [
       "0.026259128233079798"
      ]
     },
     "execution_count": 52,
     "metadata": {},
     "output_type": "execute_result"
    }
   ],
   "source": [
    "# Predikcije:\n",
    "\n",
    "Y_pred = model.predict(X_test)\n",
    "\n",
    "from sklearn.metrics import mean_squared_error\n",
    "mse = mean_squared_error(Y_test, Y_pred)\n",
    "\n",
    "rmse = np.sqrt(mse)\n",
    "rmse \n",
    "\n",
    "# Napomena: \n",
    "# Srednje kvadratnu gresku ovog tipa ne mozemo porediti sa srednje kvadratnom greskom na catboost modelu\n",
    "# zbog standardizacije"
   ]
  },
  {
   "cell_type": "code",
   "execution_count": 53,
   "id": "b8984d33",
   "metadata": {},
   "outputs": [
    {
     "data": {
      "text/plain": [
       "((8760, 4, 1), (8760, 1))"
      ]
     },
     "execution_count": 53,
     "metadata": {},
     "output_type": "execute_result"
    }
   ],
   "source": [
    "X_test.shape,Y_pred.shape"
   ]
  },
  {
   "cell_type": "code",
   "execution_count": 54,
   "id": "1dbb89b4",
   "metadata": {},
   "outputs": [],
   "source": [
    "d = scaled_dataset[:8760,:]\n",
    "Y_predicted = np.concatenate((Y_pred,d[:8760,1:]), axis =1)\n",
    "Y_tested = np.concatenate((Y_test,d[:8760,1:]), axis = 1)"
   ]
  },
  {
   "cell_type": "code",
   "execution_count": 55,
   "id": "f21e2e8f",
   "metadata": {},
   "outputs": [],
   "source": [
    "# Zelimo da vratimo u prethodne vrednosti\n",
    "\n",
    "Y_predicted = scaler.inverse_transform(Y_predicted)\n",
    "Y_tested = scaler.inverse_transform(Y_tested)\n",
    "Y_predicted = Y_predicted[:,0:1]\n",
    "Y_tested = Y_tested[:,0:1]"
   ]
  },
  {
   "cell_type": "code",
   "execution_count": 56,
   "id": "4164b408",
   "metadata": {},
   "outputs": [
    {
     "data": {
      "text/plain": [
       "23.501919768606424"
      ]
     },
     "execution_count": 56,
     "metadata": {},
     "output_type": "execute_result"
    }
   ],
   "source": [
    "from sklearn.metrics import mean_squared_error\n",
    "mse = mean_squared_error(Y_tested, Y_predicted)\n",
    "\n",
    "rmse = np.sqrt(mse)\n",
    "rmse \n",
    "\n",
    "# Ova srednjekvadratna greska sada jeste na istoj skali!"
   ]
  },
  {
   "cell_type": "code",
   "execution_count": 57,
   "id": "777d5db5",
   "metadata": {},
   "outputs": [
    {
     "data": {
      "image/png": "[encoded data removed]",
      "text/plain": [
       "<Figure size 720x360 with 1 Axes>"
      ]
     },
     "metadata": {
      "needs_background": "light"
     },
     "output_type": "display_data"
    }
   ],
   "source": [
    "plt.figure(figsize=(10,5))\n",
    "plt.plot(Y_predicted[:100,:], color= 'green',label='LSTM')\n",
    "plt.plot(Y_tested[:100,:] , color = 'red',label='Real')\n",
    "plt.legend()\n",
    "plt.show()"
   ]
  },
  {
   "cell_type": "code",
   "execution_count": 94,
   "id": "eaed3f44",
   "metadata": {},
   "outputs": [],
   "source": [
    "# 2. SLUCAJ Primena LSTM-a za predikciju koncentracije PM2.5 u vazduhu naredni sat!\n",
    "# PORED KONCENTRACIJE PM2.5 U PRETHODNIM SATIMA KORISTE SE I METEROLOSKI PODACI"
   ]
  },
  {
   "cell_type": "code",
   "execution_count": 95,
   "id": "b99a1a2b",
   "metadata": {},
   "outputs": [
    {
     "data": {
      "text/html": [
       "<div>\n",
       "<style scoped>\n",
       "    .dataframe tbody tr th:only-of-type {\n",
       "        vertical-align: middle;\n",
       "    }\n",
       "\n",
       "    .dataframe tbody tr th {\n",
       "        vertical-align: top;\n",
       "    }\n",
       "\n",
       "    .dataframe thead th {\n",
       "        text-align: right;\n",
       "    }\n",
       "</style>\n",
       "<table border=\"1\" class=\"dataframe\">\n",
       "  <thead>\n",
       "    <tr style=\"text-align: right;\">\n",
       "      <th></th>\n",
       "      <th>year</th>\n",
       "      <th>month</th>\n",
       "      <th>day</th>\n",
       "      <th>hour</th>\n",
       "      <th>PM2.5</th>\n",
       "      <th>PM10</th>\n",
       "      <th>SO2</th>\n",
       "      <th>NO2</th>\n",
       "      <th>CO</th>\n",
       "      <th>O3</th>\n",
       "      <th>TEMP</th>\n",
       "      <th>PRES</th>\n",
       "      <th>DEWP</th>\n",
       "      <th>RAIN</th>\n",
       "      <th>wd</th>\n",
       "      <th>WSPM</th>\n",
       "      <th>station</th>\n",
       "      <th>heating</th>\n",
       "    </tr>\n",
       "  </thead>\n",
       "  <tbody>\n",
       "    <tr>\n",
       "      <th>2013-03-01 00:00:00</th>\n",
       "      <td>2013</td>\n",
       "      <td>3</td>\n",
       "      <td>1</td>\n",
       "      <td>0</td>\n",
       "      <td>4.0</td>\n",
       "      <td>4.0</td>\n",
       "      <td>4.0</td>\n",
       "      <td>7.0</td>\n",
       "      <td>300.0</td>\n",
       "      <td>77.0</td>\n",
       "      <td>-0.7</td>\n",
       "      <td>1023.0</td>\n",
       "      <td>-18.8</td>\n",
       "      <td>0.0</td>\n",
       "      <td>0</td>\n",
       "      <td>4.4</td>\n",
       "      <td>Aotizhongxin</td>\n",
       "      <td>0</td>\n",
       "    </tr>\n",
       "    <tr>\n",
       "      <th>2013-03-01 01:00:00</th>\n",
       "      <td>2013</td>\n",
       "      <td>3</td>\n",
       "      <td>1</td>\n",
       "      <td>1</td>\n",
       "      <td>8.0</td>\n",
       "      <td>8.0</td>\n",
       "      <td>4.0</td>\n",
       "      <td>7.0</td>\n",
       "      <td>300.0</td>\n",
       "      <td>77.0</td>\n",
       "      <td>-1.1</td>\n",
       "      <td>1023.2</td>\n",
       "      <td>-18.2</td>\n",
       "      <td>0.0</td>\n",
       "      <td>0</td>\n",
       "      <td>4.7</td>\n",
       "      <td>Aotizhongxin</td>\n",
       "      <td>0</td>\n",
       "    </tr>\n",
       "    <tr>\n",
       "      <th>2013-03-01 02:00:00</th>\n",
       "      <td>2013</td>\n",
       "      <td>3</td>\n",
       "      <td>1</td>\n",
       "      <td>2</td>\n",
       "      <td>7.0</td>\n",
       "      <td>7.0</td>\n",
       "      <td>5.0</td>\n",
       "      <td>10.0</td>\n",
       "      <td>300.0</td>\n",
       "      <td>73.0</td>\n",
       "      <td>-1.1</td>\n",
       "      <td>1023.5</td>\n",
       "      <td>-18.2</td>\n",
       "      <td>0.0</td>\n",
       "      <td>0</td>\n",
       "      <td>5.6</td>\n",
       "      <td>Aotizhongxin</td>\n",
       "      <td>0</td>\n",
       "    </tr>\n",
       "    <tr>\n",
       "      <th>2013-03-01 03:00:00</th>\n",
       "      <td>2013</td>\n",
       "      <td>3</td>\n",
       "      <td>1</td>\n",
       "      <td>3</td>\n",
       "      <td>6.0</td>\n",
       "      <td>6.0</td>\n",
       "      <td>11.0</td>\n",
       "      <td>11.0</td>\n",
       "      <td>300.0</td>\n",
       "      <td>72.0</td>\n",
       "      <td>-1.4</td>\n",
       "      <td>1024.5</td>\n",
       "      <td>-19.4</td>\n",
       "      <td>0.0</td>\n",
       "      <td>0</td>\n",
       "      <td>3.1</td>\n",
       "      <td>Aotizhongxin</td>\n",
       "      <td>0</td>\n",
       "    </tr>\n",
       "    <tr>\n",
       "      <th>2013-03-01 04:00:00</th>\n",
       "      <td>2013</td>\n",
       "      <td>3</td>\n",
       "      <td>1</td>\n",
       "      <td>4</td>\n",
       "      <td>3.0</td>\n",
       "      <td>3.0</td>\n",
       "      <td>12.0</td>\n",
       "      <td>12.0</td>\n",
       "      <td>300.0</td>\n",
       "      <td>72.0</td>\n",
       "      <td>-2.0</td>\n",
       "      <td>1025.2</td>\n",
       "      <td>-19.5</td>\n",
       "      <td>0.0</td>\n",
       "      <td>0</td>\n",
       "      <td>2.0</td>\n",
       "      <td>Aotizhongxin</td>\n",
       "      <td>0</td>\n",
       "    </tr>\n",
       "  </tbody>\n",
       "</table>\n",
       "</div>"
      ],
      "text/plain": [
       "                     year  month  day  hour  PM2.5  PM10   SO2   NO2     CO  \\\n",
       "2013-03-01 00:00:00  2013      3    1     0    4.0   4.0   4.0   7.0  300.0   \n",
       "2013-03-01 01:00:00  2013      3    1     1    8.0   8.0   4.0   7.0  300.0   \n",
       "2013-03-01 02:00:00  2013      3    1     2    7.0   7.0   5.0  10.0  300.0   \n",
       "2013-03-01 03:00:00  2013      3    1     3    6.0   6.0  11.0  11.0  300.0   \n",
       "2013-03-01 04:00:00  2013      3    1     4    3.0   3.0  12.0  12.0  300.0   \n",
       "\n",
       "                       O3  TEMP    PRES  DEWP  RAIN  wd  WSPM       station  \\\n",
       "2013-03-01 00:00:00  77.0  -0.7  1023.0 -18.8   0.0   0   4.4  Aotizhongxin   \n",
       "2013-03-01 01:00:00  77.0  -1.1  1023.2 -18.2   0.0   0   4.7  Aotizhongxin   \n",
       "2013-03-01 02:00:00  73.0  -1.1  1023.5 -18.2   0.0   0   5.6  Aotizhongxin   \n",
       "2013-03-01 03:00:00  72.0  -1.4  1024.5 -19.4   0.0   0   3.1  Aotizhongxin   \n",
       "2013-03-01 04:00:00  72.0  -2.0  1025.2 -19.5   0.0   0   2.0  Aotizhongxin   \n",
       "\n",
       "                     heating  \n",
       "2013-03-01 00:00:00        0  \n",
       "2013-03-01 01:00:00        0  \n",
       "2013-03-01 02:00:00        0  \n",
       "2013-03-01 03:00:00        0  \n",
       "2013-03-01 04:00:00        0  "
      ]
     },
     "execution_count": 95,
     "metadata": {},
     "output_type": "execute_result"
    }
   ],
   "source": [
    "# Primenicemo takodje na jednu stanicu, za ostale je isto!\n",
    "\n",
    "dataframes[0].head()"
   ]
  },
  {
   "cell_type": "code",
   "execution_count": 96,
   "id": "4787dd0b",
   "metadata": {},
   "outputs": [],
   "source": [
    "df=pd.DataFrame(dataframes[0][['PM2.5','TEMP','PRES','DEWP','RAIN','wd','WSPM','heating']])"
   ]
  },
  {
   "cell_type": "code",
   "execution_count": 97,
   "id": "1e2d73b2",
   "metadata": {},
   "outputs": [
    {
     "data": {
      "text/html": [
       "<div>\n",
       "<style scoped>\n",
       "    .dataframe tbody tr th:only-of-type {\n",
       "        vertical-align: middle;\n",
       "    }\n",
       "\n",
       "    .dataframe tbody tr th {\n",
       "        vertical-align: top;\n",
       "    }\n",
       "\n",
       "    .dataframe thead th {\n",
       "        text-align: right;\n",
       "    }\n",
       "</style>\n",
       "<table border=\"1\" class=\"dataframe\">\n",
       "  <thead>\n",
       "    <tr style=\"text-align: right;\">\n",
       "      <th></th>\n",
       "      <th>PM2.5</th>\n",
       "      <th>TEMP</th>\n",
       "      <th>PRES</th>\n",
       "      <th>DEWP</th>\n",
       "      <th>RAIN</th>\n",
       "      <th>wd</th>\n",
       "      <th>WSPM</th>\n",
       "      <th>heating</th>\n",
       "    </tr>\n",
       "  </thead>\n",
       "  <tbody>\n",
       "    <tr>\n",
       "      <th>2013-03-01 00:00:00</th>\n",
       "      <td>4.0</td>\n",
       "      <td>-0.7</td>\n",
       "      <td>1023.0</td>\n",
       "      <td>-18.8</td>\n",
       "      <td>0.0</td>\n",
       "      <td>0</td>\n",
       "      <td>4.4</td>\n",
       "      <td>0</td>\n",
       "    </tr>\n",
       "    <tr>\n",
       "      <th>2013-03-01 01:00:00</th>\n",
       "      <td>8.0</td>\n",
       "      <td>-1.1</td>\n",
       "      <td>1023.2</td>\n",
       "      <td>-18.2</td>\n",
       "      <td>0.0</td>\n",
       "      <td>0</td>\n",
       "      <td>4.7</td>\n",
       "      <td>0</td>\n",
       "    </tr>\n",
       "    <tr>\n",
       "      <th>2013-03-01 02:00:00</th>\n",
       "      <td>7.0</td>\n",
       "      <td>-1.1</td>\n",
       "      <td>1023.5</td>\n",
       "      <td>-18.2</td>\n",
       "      <td>0.0</td>\n",
       "      <td>0</td>\n",
       "      <td>5.6</td>\n",
       "      <td>0</td>\n",
       "    </tr>\n",
       "    <tr>\n",
       "      <th>2013-03-01 03:00:00</th>\n",
       "      <td>6.0</td>\n",
       "      <td>-1.4</td>\n",
       "      <td>1024.5</td>\n",
       "      <td>-19.4</td>\n",
       "      <td>0.0</td>\n",
       "      <td>0</td>\n",
       "      <td>3.1</td>\n",
       "      <td>0</td>\n",
       "    </tr>\n",
       "    <tr>\n",
       "      <th>2013-03-01 04:00:00</th>\n",
       "      <td>3.0</td>\n",
       "      <td>-2.0</td>\n",
       "      <td>1025.2</td>\n",
       "      <td>-19.5</td>\n",
       "      <td>0.0</td>\n",
       "      <td>0</td>\n",
       "      <td>2.0</td>\n",
       "      <td>0</td>\n",
       "    </tr>\n",
       "  </tbody>\n",
       "</table>\n",
       "</div>"
      ],
      "text/plain": [
       "                     PM2.5  TEMP    PRES  DEWP  RAIN  wd  WSPM  heating\n",
       "2013-03-01 00:00:00    4.0  -0.7  1023.0 -18.8   0.0   0   4.4        0\n",
       "2013-03-01 01:00:00    8.0  -1.1  1023.2 -18.2   0.0   0   4.7        0\n",
       "2013-03-01 02:00:00    7.0  -1.1  1023.5 -18.2   0.0   0   5.6        0\n",
       "2013-03-01 03:00:00    6.0  -1.4  1024.5 -19.4   0.0   0   3.1        0\n",
       "2013-03-01 04:00:00    3.0  -2.0  1025.2 -19.5   0.0   0   2.0        0"
      ]
     },
     "execution_count": 97,
     "metadata": {},
     "output_type": "execute_result"
    }
   ],
   "source": [
    "df.head()"
   ]
  },
  {
   "cell_type": "code",
   "execution_count": 98,
   "id": "6f880eba",
   "metadata": {},
   "outputs": [
    {
     "data": {
      "text/plain": [
       "Index(['PM2.5', 'TEMP', 'PRES', 'DEWP', 'RAIN', 'wd', 'WSPM', 'heating'], dtype='object')"
      ]
     },
     "execution_count": 98,
     "metadata": {},
     "output_type": "execute_result"
    }
   ],
   "source": [
    "df.columns"
   ]
  },
  {
   "cell_type": "code",
   "execution_count": 99,
   "id": "8b76e4fb",
   "metadata": {},
   "outputs": [
    {
     "data": {
      "image/png": "[encoded data removed]",
      "text/plain": [
       "<Figure size 432x288 with 1 Axes>"
      ]
     },
     "metadata": {
      "needs_background": "light"
     },
     "output_type": "display_data"
    }
   ],
   "source": [
    "df.boxplot()\n",
    "plt.show()"
   ]
  },
  {
   "cell_type": "code",
   "execution_count": 100,
   "id": "87de2afe",
   "metadata": {},
   "outputs": [
    {
     "data": {
      "image/png": "[encoded data removed]",
      "text/plain": [
       "<Figure size 288x288 with 2 Axes>"
      ]
     },
     "metadata": {
      "needs_background": "light"
     },
     "output_type": "display_data"
    }
   ],
   "source": [
    "cols =  df.columns\n",
    "plt.matshow(df.corr())\n",
    "plt.xticks(range(len(cols)), cols,rotation=90)\n",
    "plt.yticks(range(len(cols)), cols)\n",
    "plt.colorbar()\n",
    "plt.show()"
   ]
  },
  {
   "cell_type": "code",
   "execution_count": 101,
   "id": "4c6362aa",
   "metadata": {},
   "outputs": [],
   "source": [
    "#Standardizacija\n",
    "from sklearn.preprocessing import MinMaxScaler\n",
    "values = df.values\n",
    "scaler = MinMaxScaler(feature_range=(0, 1))\n",
    "scaled_dataset = scaler.fit_transform(values)"
   ]
  },
  {
   "cell_type": "code",
   "execution_count": 102,
   "id": "f485325b",
   "metadata": {},
   "outputs": [],
   "source": [
    "with open('models/with_metero.scaler.pickle', 'wb') as model_file:\n",
    "    pickle.dump(scaler, model_file)"
   ]
  },
  {
   "cell_type": "code",
   "execution_count": 103,
   "id": "277b952d",
   "metadata": {},
   "outputs": [
    {
     "name": "stdout",
     "output_type": "stream",
     "text": [
      "Y (35060, 1)\n",
      "X (35060, 4, 8)\n"
     ]
    }
   ],
   "source": [
    "X, Y =s_to_super(scaled_dataset,4)\n",
    "X = np.array(X)\n",
    "Y = np.array(Y)\n",
    "print('Y' ,Y.shape)\n",
    "print('X' ,X.shape)"
   ]
  },
  {
   "cell_type": "code",
   "execution_count": 104,
   "id": "b3ad8abb",
   "metadata": {},
   "outputs": [],
   "source": [
    "n_train= 24*365"
   ]
  },
  {
   "cell_type": "code",
   "execution_count": 105,
   "id": "ed7b84b6",
   "metadata": {},
   "outputs": [
    {
     "data": {
      "text/plain": [
       "((26300, 4, 8), (8760, 4, 8), (26300, 1), (8760, 1))"
      ]
     },
     "execution_count": 105,
     "metadata": {},
     "output_type": "execute_result"
    }
   ],
   "source": [
    "# Ovde necemo praviti validacioni test\n",
    "X_train, X_test = X[n_train:,] , X[:n_train,]\n",
    "Y_train, Y_test = Y[n_train:,] , Y[:n_train,]\n",
    "X_train.shape,X_test.shape,Y_train.shape,Y_test.shape"
   ]
  },
  {
   "cell_type": "code",
   "execution_count": 106,
   "id": "5ab464c1",
   "metadata": {},
   "outputs": [],
   "source": [
    "# LSTM model\n",
    "\n",
    "model = Sequential()\n",
    "\n",
    "model.add(Input(shape=(X_train.shape[1], X_train.shape[2])))\n",
    "model.add(LSTM(units = 50, return_sequences = True,activation='relu'))\n",
    "model.add(Dropout(0.2))\n",
    "\n",
    "model.add(LSTM(units = 50, return_sequences = True,activation='relu'))\n",
    "model.add(Dropout(0.2))\n",
    "\n",
    "model.add(LSTM(units = 50))\n",
    "model.add(Dropout(0.2))\n",
    "\n",
    "model.add(Dense(units = 1))\n",
    "\n",
    "model.compile(optimizer = Adam(learning_rate=0.001), loss = 'mean_squared_error',metrics=['mae'])"
   ]
  },
  {
   "cell_type": "code",
   "execution_count": 107,
   "id": "3e48b5b4",
   "metadata": {},
   "outputs": [
    {
     "name": "stdout",
     "output_type": "stream",
     "text": [
      "Epoch 1/20\n",
      "822/822 [==============================] - 4s 5ms/step - loss: 0.0023 - mae: 0.0313\n",
      "Epoch 2/20\n",
      "822/822 [==============================] - 4s 4ms/step - loss: 0.0012 - mae: 0.0223\n",
      "Epoch 3/20\n",
      "822/822 [==============================] - 4s 4ms/step - loss: 9.9198e-04 - mae: 0.0198\n",
      "Epoch 4/20\n",
      "822/822 [==============================] - 3s 4ms/step - loss: 8.8178e-04 - mae: 0.0186\n",
      "Epoch 5/20\n",
      "822/822 [==============================] - 3s 4ms/step - loss: 7.8228e-04 - mae: 0.0177\n",
      "Epoch 6/20\n",
      "822/822 [==============================] - 4s 4ms/step - loss: 7.5238e-04 - mae: 0.0170\n",
      "Epoch 7/20\n",
      "822/822 [==============================] - 4s 5ms/step - loss: 7.1017e-04 - mae: 0.0166\n",
      "Epoch 8/20\n",
      "822/822 [==============================] - 3s 4ms/step - loss: 6.7787e-04 - mae: 0.0162\n",
      "Epoch 9/20\n",
      "822/822 [==============================] - 3s 4ms/step - loss: 6.8529e-04 - mae: 0.0161\n",
      "Epoch 10/20\n",
      "822/822 [==============================] - 4s 4ms/step - loss: 6.6767e-04 - mae: 0.0159\n",
      "Epoch 11/20\n",
      "822/822 [==============================] - 4s 4ms/step - loss: 6.6866e-04 - mae: 0.0161\n",
      "Epoch 12/20\n",
      "822/822 [==============================] - 4s 5ms/step - loss: 6.5348e-04 - mae: 0.0158\n",
      "Epoch 13/20\n",
      "822/822 [==============================] - 3s 4ms/step - loss: 6.3224e-04 - mae: 0.0156\n",
      "Epoch 14/20\n",
      "822/822 [==============================] - 3s 4ms/step - loss: 6.1918e-04 - mae: 0.0154\n",
      "Epoch 15/20\n",
      "822/822 [==============================] - 4s 4ms/step - loss: 6.3962e-04 - mae: 0.0155\n",
      "Epoch 16/20\n",
      "822/822 [==============================] - 4s 5ms/step - loss: 6.4411e-04 - mae: 0.0156\n",
      "Epoch 17/20\n",
      "822/822 [==============================] - 3s 4ms/step - loss: 6.1815e-04 - mae: 0.0153\n",
      "Epoch 18/20\n",
      "822/822 [==============================] - 3s 4ms/step - loss: 6.1939e-04 - mae: 0.0153\n",
      "Epoch 19/20\n",
      "822/822 [==============================] - 4s 4ms/step - loss: 6.1826e-04 - mae: 0.0154\n",
      "Epoch 20/20\n",
      "822/822 [==============================] - 4s 4ms/step - loss: 6.1693e-04 - mae: 0.0152\n"
     ]
    }
   ],
   "source": [
    "history=model.fit(X_train, Y_train, epochs = 20, batch_size = 32,verbose=1)"
   ]
  },
  {
   "cell_type": "code",
   "execution_count": 108,
   "id": "ea9c9d3a",
   "metadata": {},
   "outputs": [
    {
     "data": {
      "image/png": "[encoded data removed]",
      "text/plain": [
       "<Figure size 432x288 with 1 Axes>"
      ]
     },
     "metadata": {
      "needs_background": "light"
     },
     "output_type": "display_data"
    }
   ],
   "source": [
    "# Pogledajmo loss funkciju\n",
    "\n",
    "plt.plot(history.epoch,history.history['loss'])\n",
    "plt.show()"
   ]
  },
  {
   "cell_type": "code",
   "execution_count": 126,
   "id": "a113c54a",
   "metadata": {},
   "outputs": [],
   "source": [
    "# Sacuvajmo model\n",
    "model.save('models/with_metero.h5')"
   ]
  },
  {
   "cell_type": "code",
   "execution_count": 117,
   "id": "b2b25f3e",
   "metadata": {},
   "outputs": [
    {
     "data": {
      "text/plain": [
       "0.02453623512173533"
      ]
     },
     "execution_count": 117,
     "metadata": {},
     "output_type": "execute_result"
    }
   ],
   "source": [
    "Y_pred_with = model.predict(X_test)\n",
    "\n",
    "mse_with = mean_squared_error(Y_test, Y_pred_with)\n",
    "\n",
    "rmse_with = np.sqrt(mse_with)\n",
    "rmse_with"
   ]
  },
  {
   "cell_type": "code",
   "execution_count": 118,
   "id": "34169f85",
   "metadata": {},
   "outputs": [
    {
     "data": {
      "text/plain": [
       "(8760, 4, 8)"
      ]
     },
     "execution_count": 118,
     "metadata": {},
     "output_type": "execute_result"
    }
   ],
   "source": [
    "X_test.shape"
   ]
  },
  {
   "cell_type": "code",
   "execution_count": 119,
   "id": "04eb0890",
   "metadata": {},
   "outputs": [
    {
     "data": {
      "text/plain": [
       "(8760, 1)"
      ]
     },
     "execution_count": 119,
     "metadata": {},
     "output_type": "execute_result"
    }
   ],
   "source": [
    "Y_pred_with.shape"
   ]
  },
  {
   "cell_type": "code",
   "execution_count": 120,
   "id": "9e9cd35c",
   "metadata": {},
   "outputs": [],
   "source": [
    "d = scaled_dataset[:8760,:]\n",
    "Y_predicted_with = np.concatenate((Y_pred_with,d[:8760,1:]), axis =1)\n",
    "Y_tested_with = np.concatenate((Y_test, d[:8760,1:]), axis = 1)"
   ]
  },
  {
   "cell_type": "code",
   "execution_count": 121,
   "id": "ed4b675f",
   "metadata": {},
   "outputs": [],
   "source": [
    "Y_predicted_with = scaler.inverse_transform(Y_predicted_with)\n",
    "Y_tested_with = scaler.inverse_transform(Y_tested_with)\n",
    "Y_predicted_with = Y_predicted_with[:,0:1]\n",
    "Y_tested_with = Y_tested_with[:,0:1]"
   ]
  },
  {
   "cell_type": "code",
   "execution_count": 122,
   "id": "05d4e41a",
   "metadata": {},
   "outputs": [
    {
     "data": {
      "text/plain": [
       "21.959930433953122"
      ]
     },
     "execution_count": 122,
     "metadata": {},
     "output_type": "execute_result"
    }
   ],
   "source": [
    "mse_with = mean_squared_error(Y_tested_with, Y_predicted_with)\n",
    "rmse_with = np.sqrt(mse_with)\n",
    "rmse_with"
   ]
  },
  {
   "cell_type": "code",
   "execution_count": 123,
   "id": "927dcd4d",
   "metadata": {},
   "outputs": [
    {
     "data": {
      "image/png": "[encoded data removed]",
      "text/plain": [
       "<Figure size 720x432 with 1 Axes>"
      ]
     },
     "metadata": {
      "needs_background": "light"
     },
     "output_type": "display_data"
    }
   ],
   "source": [
    "plt.figure(figsize=(10,6))  \n",
    "plt.plot(Y_predicted_with[:100,:], color= 'green',label = 'LSTM')\n",
    "plt.plot(Y_tested[:100,:] , color = 'red',label = 'Real')\n",
    "plt.legend()\n",
    "plt.show()"
   ]
  },
  {
   "cell_type": "code",
   "execution_count": 124,
   "id": "4a628eb5",
   "metadata": {},
   "outputs": [
    {
     "data": {
      "image/png": "[encoded data removed]",
      "text/plain": [
       "<Figure size 720x432 with 1 Axes>"
      ]
     },
     "metadata": {
      "needs_background": "light"
     },
     "output_type": "display_data"
    }
   ],
   "source": [
    "# Poredjenje grafika oba modela\n",
    "plt.figure(figsize=(10,6))  \n",
    "plt.plot(Y_predicted_with[:100,:], color= 'green',label = 'LSTM_with_metero')\n",
    "plt.plot(Y_predicted[:100,:], color= 'blue',label = 'LSTM_without_metero')\n",
    "plt.plot(Y_tested[:100,:] , color = 'red',label = 'Real')\n",
    "plt.legend()\n",
    "plt.show()"
   ]
  },
  {
   "cell_type": "code",
   "execution_count": 125,
   "id": "9464d7d3",
   "metadata": {},
   "outputs": [
    {
     "name": "stdout",
     "output_type": "stream",
     "text": [
      "Sa meteroloskim podacima: 21.959930433953122\n",
      "Bez meteroloskih podataka: 23.501919768606424\n"
     ]
    }
   ],
   "source": [
    "# Srednje kvadratne greske sa i bez meteroloskih podataka:\n",
    "print(\"Sa meteroloskim podacima: {}\".format(rmse_with))\n",
    "print(\"Bez meteroloskih podataka: {}\".format(rmse))"
   ]
  },
  {
   "cell_type": "code",
   "execution_count": null,
   "id": "2a8c94dd",
   "metadata": {},
   "outputs": [],
   "source": []
  }
 ],
 "metadata": {
  "kernelspec": {
   "display_name": "Python 3",
   "language": "python",
   "name": "python3"
  },
  "language_info": {
   "codemirror_mode": {
    "name": "ipython",
    "version": 3
   },
   "file_extension": ".py",
   "mimetype": "text/x-python",
   "name": "python",
   "nbconvert_exporter": "python",
   "pygments_lexer": "ipython3",
   "version": "3.8.8"
  }
 },
 "nbformat": 4,
 "nbformat_minor": 5
}
